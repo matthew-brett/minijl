{
 "cells": [
  {
   "cell_type": "markdown",
   "id": "5778e378",
   "metadata": {},
   "source": [
    "# Association of athletic and IQ scores with $r$"
   ]
  },
  {
   "cell_type": "markdown",
   "id": "63d4ec90",
   "metadata": {},
   "source": [
    "We use random pairings of the athletic and IQ scores to find the\n",
    "null-world distribution of the correlation coefficients of these scores."
   ]
  },
  {
   "cell_type": "code",
   "execution_count": null,
   "id": "1da1dfb7",
   "metadata": {},
   "outputs": [],
   "source": [
    "# Load the Numpy library for arrays.\n",
    "import numpy as np\n",
    "# Load the Pandas library for loading and selecting data.\n",
    "import pandas as pd\n",
    "# Plotting library.\n",
    "import matplotlib.pyplot as plt\n",
    "\n",
    "# Set up the random number generator\n",
    "rnd = np.random.default_rng()\n",
    "\n",
    "# Read the data file containing athletic and IQ scores.\n",
    "ath_iq_df = pd.read_csv('data/athletic_iq.csv')\n",
    "\n",
    "# Turn athletic and IQ scores into arrays.\n",
    "ath = np.array(ath_iq_df['athletic_score'])\n",
    "iq = np.array(ath_iq_df['iq_score'])\n",
    "\n",
    "# Calculate, select correlation coefficient.\n",
    "actual_r = np.corrcoef(ath, iq)[0, 1]\n",
    "\n",
    "# Set the number of trials for the null-world simulation.\n",
    "n_trials = 10_000\n",
    "\n",
    "# An empty array to store the trial results.\n",
    "results = np.zeros(n_trials)\n",
    "\n",
    "# Do 10,000 experiments.\n",
    "for i in range(n_trials):\n",
    "    # Shuffle the IQ scores so we can pair them against athletic scores.\n",
    "    shuffled = rnd.permuted(iq)\n",
    "    # Calculate the correlation coefficient.\n",
    "    fake_r = np.corrcoef(ath, shuffled)[0, 1]\n",
    "    # Keep track of the result in results array.\n",
    "    results[i] = fake_r\n",
    "    # End one trial, go back and repeat until 10000 trials are complete.\n",
    "\n",
    "# Obtain a histogram of the trial results.\n",
    "plt.hist(results, bins=25)\n",
    "plt.title('Random correlation coefficients')\n",
    "plt.xlabel('Observed r values from random pairing')\n",
    "\n",
    "# Determine in how many trials the random r value was greater than\n",
    "# the observed r value.\n",
    "k = np.sum(results >= actual_r)\n",
    "# Convert to a proportion.\n",
    "kk = k / n_trials\n",
    "# Print the result.\n",
    "print('Proportion of random pairings giving r >= observed:', kk)"
   ]
  }
 ],
 "metadata": {
  "jupytext": {
   "cell_metadata_filter": "-all",
   "main_language": "python",
   "notebook_metadata_filter": "-all"
  }
 },
 "nbformat": 4,
 "nbformat_minor": 5
}
